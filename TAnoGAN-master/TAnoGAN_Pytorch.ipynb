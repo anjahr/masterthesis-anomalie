{
 "cells": [
  {
   "attachments": {},
   "cell_type": "markdown",
   "metadata": {},
   "source": [
    "## TAnoGAN: Time Series Anomaly Detection with Generative Adversarial Networks\n",
    "\n",
    "Published in: 2020 IEEE Symposium Series on Computational Intelligence (SSCI)\n",
    "\n",
    "Paper link: https://ieeexplore.ieee.org/abstract/document/9308512\n",
    "\n",
    "Code was published by Md Abul Bashar and Richi Nayak on https://github.com/mdabashar/TAnoGAN."
   ]
  },
  {
   "attachments": {},
   "cell_type": "markdown",
   "metadata": {},
   "source": [
    "### Import required libraries"
   ]
  },
  {
   "cell_type": "code",
   "execution_count": 1,
   "metadata": {},
   "outputs": [
    {
     "name": "stderr",
     "output_type": "stream",
     "text": [
      "/Users/anastasiasinitsyna/anaconda3/lib/python3.10/site-packages/torchvision/io/image.py:13: UserWarning: Failed to load image Python extension: 'dlopen(/Users/anastasiasinitsyna/anaconda3/lib/python3.10/site-packages/torchvision/image.so, 0x0006): Symbol not found: (__ZN3c106detail19maybe_wrap_dim_slowIxEET_S2_S2_b)\n",
      "  Referenced from: '/Users/anastasiasinitsyna/anaconda3/lib/python3.10/site-packages/torchvision/image.so'\n",
      "  Expected in: '/Users/anastasiasinitsyna/anaconda3/lib/python3.10/site-packages/torch/lib/libc10.dylib''If you don't plan on using image functionality from `torchvision.io`, you can ignore this warning. Otherwise, there might be something wrong with your environment. Did you have `libjpeg` or `libpng` installed before building `torchvision` from source?\n",
      "  warn(\n"
     ]
    }
   ],
   "source": [
    "import os\n",
    "import random\n",
    "import torch\n",
    "import torch.nn as nn\n",
    "import torch.backends.cudnn as cudnn\n",
    "import torch.optim as optim\n",
    "import torch.utils.data\n",
    "import torchvision\n",
    "import torch.nn.init as init\n",
    "from torch.autograd import Variable\n",
    "import datetime\n",
    "from nab_dataset import NabDataset\n",
    "from models.recurrent_models_pyramid import LSTMGenerator, LSTMDiscriminator"
   ]
  },
  {
   "attachments": {},
   "cell_type": "markdown",
   "metadata": {},
   "source": [
    "#### Define Basic Settings for Adversarial Training"
   ]
  },
  {
   "cell_type": "code",
   "execution_count": 2,
   "metadata": {},
   "outputs": [],
   "source": [
    "class ArgsTrn:\n",
    "    workers=4\n",
    "    batch_size=32\n",
    "    epochs=20\n",
    "    lr=0.0002\n",
    "    cuda = True\n",
    "    manualSeed=2\n",
    "    \n",
    "opt_trn=ArgsTrn()"
   ]
  },
  {
   "cell_type": "code",
   "execution_count": 3,
   "metadata": {},
   "outputs": [],
   "source": [
    "torch.manual_seed(opt_trn.manualSeed)\n",
    "cudnn.benchmark = True"
   ]
  },
  {
   "attachments": {},
   "cell_type": "markdown",
   "metadata": {},
   "source": [
    "### Setup Data Loader"
   ]
  },
  {
   "cell_type": "code",
   "execution_count": 9,
   "metadata": {},
   "outputs": [],
   "source": [
    "# location of datasets and category\n",
    "\n",
    "end_name = 'art_increase_spike_density.csv' # dataset name\n",
    "data_file = 'data/artificialWithAnomaly/'+end_name # dataset category and dataset name\n",
    "key = 'artificialWithAnomaly/'+end_name # This key is used for reading anomaly labels"
   ]
  },
  {
   "cell_type": "code",
   "execution_count": 10,
   "metadata": {},
   "outputs": [],
   "source": [
    "# settings for data loader\n",
    "class DataSettings:\n",
    "    \n",
    "    def __init__(self):\n",
    "        self.BASE = '/Users/anastasiasinitsyna/Desktop/GIT/TAnoGAN-master/NabDataset/' #'D:\\\\ResearchDataGtx1060\\\\AnomalyDetectionData\\\\NabDataset\\\\'\n",
    "        self.label_file = 'labels/combined_windows.json'\n",
    "        self.data_file = data_file\n",
    "        self.key = key\n",
    "        self.train = True\n",
    "        self.window_length = 60\n",
    "    \n",
    "    \n",
    "data_settings = DataSettings()"
   ]
  },
  {
   "cell_type": "code",
   "execution_count": 11,
   "metadata": {},
   "outputs": [
    {
     "data": {
      "text/plain": [
       "(torch.Size([3972, 60, 1]), torch.Size([3972]))"
      ]
     },
     "execution_count": 11,
     "metadata": {},
     "output_type": "execute_result"
    }
   ],
   "source": [
    "# define dataset object and data loader object for NAB dataset\n",
    "dataset = NabDataset(data_settings=data_settings)\n",
    "dataloader = torch.utils.data.DataLoader(dataset, batch_size=opt_trn.batch_size,\n",
    "                                         shuffle=True, num_workers=int(opt_trn.workers))\n",
    "\n",
    "dataset.x.shape, dataset.y.shape # check the dataset shape"
   ]
  },
  {
   "attachments": {},
   "cell_type": "markdown",
   "metadata": {},
   "source": [
    "### Setup Models"
   ]
  },
  {
   "cell_type": "code",
   "execution_count": 12,
   "metadata": {},
   "outputs": [],
   "source": [
    "#device = torch.device(\"cuda:0\" if opt_trn.cuda else \"cpu\") # select the device\n",
    "device = torch.device(\"cpu\")\n",
    "seq_len = dataset.window_length # sequence length is equal to the window length\n",
    "in_dim = dataset.n_feature # input dimension is same as number of feature"
   ]
  },
  {
   "cell_type": "code",
   "execution_count": 13,
   "metadata": {},
   "outputs": [],
   "source": [
    "# Create generator and discriminator models\n",
    "netD = LSTMDiscriminator(in_dim=in_dim, device=device).to(device)\n",
    "netG = LSTMGenerator(in_dim=in_dim, out_dim=in_dim, device=device).to(device)"
   ]
  },
  {
   "cell_type": "code",
   "execution_count": 14,
   "metadata": {},
   "outputs": [
    {
     "name": "stdout",
     "output_type": "stream",
     "text": [
      "|Discriminator Architecture|\n",
      " LSTMDiscriminator(\n",
      "  (lstm): LSTM(1, 100, batch_first=True)\n",
      "  (linear): Sequential(\n",
      "    (0): Linear(in_features=100, out_features=1, bias=True)\n",
      "    (1): Sigmoid()\n",
      "  )\n",
      ")\n",
      "|Generator Architecture|\n",
      " LSTMGenerator(\n",
      "  (lstm0): LSTM(1, 32, batch_first=True)\n",
      "  (lstm1): LSTM(32, 64, batch_first=True)\n",
      "  (lstm2): LSTM(64, 128, batch_first=True)\n",
      "  (linear): Sequential(\n",
      "    (0): Linear(in_features=128, out_features=1, bias=True)\n",
      "    (1): Tanh()\n",
      "  )\n",
      ")\n"
     ]
    }
   ],
   "source": [
    "print(\"|Discriminator Architecture|\\n\", netD)\n",
    "print(\"|Generator Architecture|\\n\", netG)"
   ]
  },
  {
   "cell_type": "code",
   "execution_count": 15,
   "metadata": {},
   "outputs": [],
   "source": [
    "# Setup loss function\n",
    "criterion = nn.BCELoss().to(device)"
   ]
  },
  {
   "cell_type": "code",
   "execution_count": 16,
   "metadata": {},
   "outputs": [],
   "source": [
    "# setup optimizer\n",
    "optimizerD = optim.Adam(netD.parameters(), lr=opt_trn.lr)\n",
    "optimizerG = optim.Adam(netG.parameters(), lr=opt_trn.lr)"
   ]
  },
  {
   "attachments": {},
   "cell_type": "markdown",
   "metadata": {},
   "source": [
    "### Adversarial Training of Generator and Discriminator Models"
   ]
  },
  {
   "cell_type": "code",
   "execution_count": 17,
   "metadata": {},
   "outputs": [
    {
     "name": "stderr",
     "output_type": "stream",
     "text": [
      "/var/folders/ks/j5w6xqqs1454hlwdqd8w2gg80000gn/T/ipykernel_1214/824483183.py:25: UserWarning: nn.init.normal is now deprecated in favor of nn.init.normal_.\n",
      "  noise = Variable(init.normal(torch.Tensor(batch_size,seq_len,in_dim),mean=0,std=0.1))\n",
      "/var/folders/ks/j5w6xqqs1454hlwdqd8w2gg80000gn/T/ipykernel_1214/824483183.py:40: UserWarning: nn.init.normal is now deprecated in favor of nn.init.normal_.\n",
      "  noise = Variable(init.normal(torch.Tensor(batch_size,seq_len,in_dim),mean=0,std=0.1))\n"
     ]
    },
    {
     "name": "stdout",
     "output_type": "stream",
     "text": [
      "[0/20][124/125] Loss_D: 1.5155 Loss_G: 0.4505 D(x): 0.6211 D(G(z)): 0.6422 / 0.6391\n",
      "[1/20][124/125] Loss_D: 0.8054 Loss_G: 0.6964 D(x): 0.9080 D(G(z)): 0.5003 / 0.4989\n",
      "[2/20][124/125] Loss_D: 1.6024 Loss_G: 0.6392 D(x): 0.4349 D(G(z)): 0.5311 / 0.5311\n",
      "[3/20][124/125] Loss_D: 1.4687 Loss_G: 0.5895 D(x): 0.5195 D(G(z)): 0.5555 / 0.5555\n",
      "[4/20][124/125] Loss_D: 1.3752 Loss_G: 0.5383 D(x): 0.6108 D(G(z)): 0.5844 / 0.5846\n",
      "[5/20][124/125] Loss_D: 0.3388 Loss_G: 2.0513 D(x): 0.8888 D(G(z)): 0.1696 / 0.1687\n",
      "[6/20][124/125] Loss_D: 1.6995 Loss_G: 0.4001 D(x): 0.5629 D(G(z)): 0.6727 / 0.6718\n",
      "[7/20][124/125] Loss_D: 1.4962 Loss_G: 0.5103 D(x): 0.5623 D(G(z)): 0.6008 / 0.6006\n",
      "[8/20][124/125] Loss_D: 1.4013 Loss_G: 0.5693 D(x): 0.5686 D(G(z)): 0.5663 / 0.5661\n",
      "[9/20][124/125] Loss_D: 1.2812 Loss_G: 0.6550 D(x): 0.5823 D(G(z)): 0.5209 / 0.5206\n",
      "[10/20][124/125] Loss_D: 1.0256 Loss_G: 0.8962 D(x): 0.6471 D(G(z)): 0.4244 / 0.4244\n",
      "[11/20][124/125] Loss_D: 1.4669 Loss_G: 0.4316 D(x): 0.6655 D(G(z)): 0.6496 / 0.6498\n",
      "[12/20][124/125] Loss_D: 1.3694 Loss_G: 0.5121 D(x): 0.6439 D(G(z)): 0.6000 / 0.5997\n",
      "[13/20][124/125] Loss_D: 1.3087 Loss_G: 0.4999 D(x): 0.7049 D(G(z)): 0.6068 / 0.6068\n",
      "[14/20][124/125] Loss_D: 1.2785 Loss_G: 0.5062 D(x): 0.7214 D(G(z)): 0.6032 / 0.6030\n",
      "[15/20][124/125] Loss_D: 1.3618 Loss_G: 0.5272 D(x): 0.6354 D(G(z)): 0.5904 / 0.5904\n",
      "[16/20][124/125] Loss_D: 1.1962 Loss_G: 0.5363 D(x): 0.7545 D(G(z)): 0.5852 / 0.5851\n",
      "[17/20][124/125] Loss_D: 1.1612 Loss_G: 0.5488 D(x): 0.7702 D(G(z)): 0.5779 / 0.5778\n",
      "[18/20][124/125] Loss_D: 1.1388 Loss_G: 0.5579 D(x): 0.7774 D(G(z)): 0.5727 / 0.5726\n",
      "[19/20][124/125] Loss_D: 1.1263 Loss_G: 0.5643 D(x): 0.7820 D(G(z)): 0.5691 / 0.5690\n"
     ]
    }
   ],
   "source": [
    "real_label = 1\n",
    "fake_label = 0\n",
    "\n",
    "for epoch in range(opt_trn.epochs):\n",
    "    for i, (x,y) in enumerate(dataloader, 0):\n",
    "        \n",
    "        ############################\n",
    "        # (1) Update D network: maximize log(D(x)) + log(1 - D(G(z)))\n",
    "        ###########################\n",
    "\n",
    "        #Train with real data\n",
    "        netD.zero_grad()\n",
    "        real = x.to(device)\n",
    "        batch_size, seq_len = real.size(0), real.size(1)\n",
    "        label = torch.full((batch_size, seq_len, 1), real_label, device=device)\n",
    "\n",
    "        output,_ = netD.forward(real)\n",
    "        errD_real = criterion(output, label.float())\n",
    "        errD_real.backward()\n",
    "        optimizerD.step()\n",
    "        D_x = output.mean().item()\n",
    "        \n",
    "        #Train with fake data\n",
    "        #noise = Variable(init.normal(torch.Tensor(batch_size,seq_len,in_dim),mean=0,std=0.1)).cuda()\n",
    "        noise = Variable(init.normal(torch.Tensor(batch_size,seq_len,in_dim),mean=0,std=0.1))\n",
    "        fake,_ = netG.forward(noise)\n",
    "        output,_ = netD.forward(fake.detach()) # detach causes gradient is no longer being computed or stored to save memeory\n",
    "        label.fill_(fake_label)\n",
    "        errD_fake = criterion(output, label.float())\n",
    "        errD_fake.backward()\n",
    "        D_G_z1 = output.mean().item()\n",
    "        errD = errD_real + errD_fake\n",
    "        optimizerD.step()\n",
    "        \n",
    "        ############################\n",
    "        # (2) Update G network: maximize log(D(G(z)))\n",
    "        ###########################\n",
    "        netG.zero_grad()\n",
    "        #noise = Variable(init.normal(torch.Tensor(batch_size,seq_len,in_dim),mean=0,std=0.1)).cuda()\n",
    "        noise = Variable(init.normal(torch.Tensor(batch_size,seq_len,in_dim),mean=0,std=0.1))\n",
    "        fake,_ = netG.forward(noise)\n",
    "        label.fill_(real_label) \n",
    "        output,_ = netD.forward(fake)\n",
    "        errG = criterion(output, label.float())\n",
    "        errG.backward()\n",
    "        optimizerG.step()\n",
    "        D_G_z2 = output.mean().item()\n",
    "        \n",
    "        \n",
    "\n",
    "    print('[%d/%d][%d/%d] Loss_D: %.4f Loss_G: %.4f D(x): %.4f D(G(z)): %.4f / %.4f' \n",
    "          % (epoch, opt_trn.epochs, i, len(dataloader),\n",
    "             errD.item(), errG.item(), D_x, D_G_z1, D_G_z2), end='')\n",
    "    print()"
   ]
  },
  {
   "attachments": {},
   "cell_type": "markdown",
   "metadata": {},
   "source": [
    "## Anomaly Detection"
   ]
  },
  {
   "attachments": {},
   "cell_type": "markdown",
   "metadata": {},
   "source": [
    "#### Define basic settings for inverse mapping"
   ]
  },
  {
   "cell_type": "code",
   "execution_count": 18,
   "metadata": {},
   "outputs": [],
   "source": [
    "class ArgsTest:\n",
    "    workers = 1\n",
    "    batch_size = 1\n",
    "    \n",
    "opt_test=ArgsTest()    "
   ]
  },
  {
   "cell_type": "code",
   "execution_count": 19,
   "metadata": {},
   "outputs": [],
   "source": [
    "generator = netG # changing reference variable \n",
    "discriminator = netD # changing reference variable "
   ]
  },
  {
   "attachments": {},
   "cell_type": "markdown",
   "metadata": {},
   "source": [
    "##### Define Test Data"
   ]
  },
  {
   "cell_type": "code",
   "execution_count": 20,
   "metadata": {},
   "outputs": [],
   "source": [
    "# Define settings for loading data in evaluation mood\n",
    "class TestDataSettings:\n",
    "    \n",
    "    def __init__(self):\n",
    "        self.BASE = '/Users/anastasiasinitsyna/Desktop/GIT/TAnoGAN-master/NabDataset/'\n",
    "        self.label_file = 'labels/combined_windows.json'\n",
    "        self.data_file = data_file\n",
    "        self.key = key\n",
    "        self.train = False\n",
    "\n",
    "        \n",
    "test_data_settings = TestDataSettings()\n"
   ]
  },
  {
   "cell_type": "code",
   "execution_count": 21,
   "metadata": {},
   "outputs": [
    {
     "data": {
      "text/plain": [
       "(torch.Size([67, 60, 1]), torch.Size([67]), 67)"
      ]
     },
     "execution_count": 21,
     "metadata": {},
     "output_type": "execute_result"
    }
   ],
   "source": [
    "# define dataset object and data loader object in evaluation mood for NAB dataset\n",
    "\n",
    "test_dataset = NabDataset(test_data_settings)\n",
    "test_dataloader = torch.utils.data.DataLoader(test_dataset, batch_size=opt_test.batch_size, \n",
    "                                         shuffle=False, num_workers=int(opt_test.workers))\n",
    "\n",
    "test_dataset.x.shape, test_dataset.y.shape, test_dataset.data_len # check the dataset shape"
   ]
  },
  {
   "attachments": {},
   "cell_type": "markdown",
   "metadata": {},
   "source": [
    "#### Define a function to calculate anomaly score"
   ]
  },
  {
   "cell_type": "code",
   "execution_count": 22,
   "metadata": {},
   "outputs": [],
   "source": [
    "# Lambda = 0.1 according to paper\n",
    "# x is new data, G_z is closely regenerated data\n",
    "\n",
    "def Anomaly_score(x, G_z, Lambda=0.1):\n",
    "    residual_loss = torch.sum(torch.abs(x-G_z)) # Residual Loss\n",
    "    \n",
    "    # x_feature is a rich intermediate feature representation for real data x\n",
    "    output, x_feature = discriminator(x.to(device)) \n",
    "    # G_z_feature is a rich intermediate feature representation for fake data G(z)\n",
    "    output, G_z_feature = discriminator(G_z.to(device)) \n",
    "    \n",
    "    discrimination_loss = torch.sum(torch.abs(x_feature-G_z_feature)) # Discrimination loss\n",
    "    \n",
    "    total_loss = (1-Lambda)*residual_loss.to(device) + Lambda*discrimination_loss\n",
    "    return total_loss"
   ]
  },
  {
   "attachments": {},
   "cell_type": "markdown",
   "metadata": {},
   "source": [
    "### Inverse mapping to latent space and reconstruction of data for estimating anomaly score"
   ]
  },
  {
   "cell_type": "code",
   "execution_count": 23,
   "metadata": {},
   "outputs": [
    {
     "name": "stdout",
     "output_type": "stream",
     "text": [
      "0 tensor([0.])\n"
     ]
    },
    {
     "name": "stderr",
     "output_type": "stream",
     "text": [
      "/var/folders/ks/j5w6xqqs1454hlwdqd8w2gg80000gn/T/ipykernel_1214/2477469716.py:6: UserWarning: nn.init.normal is now deprecated in favor of nn.init.normal_.\n",
      "  z = Variable(init.normal(torch.zeros(opt_test.batch_size,\n"
     ]
    },
    {
     "name": "stdout",
     "output_type": "stream",
     "text": [
      "~~~~~~~~loss=256.39776611328125,  y=tensor([0.]) ~~~~~~~~~~\n",
      "1 tensor([0.])\n",
      "~~~~~~~~loss=85.82067108154297,  y=tensor([0.]) ~~~~~~~~~~\n",
      "2 tensor([0.])\n",
      "~~~~~~~~loss=3.3033108711242676,  y=tensor([0.]) ~~~~~~~~~~\n",
      "3 tensor([0.])\n",
      "~~~~~~~~loss=172.29348754882812,  y=tensor([0.]) ~~~~~~~~~~\n",
      "4 tensor([0.])\n",
      "~~~~~~~~loss=3.311403274536133,  y=tensor([0.]) ~~~~~~~~~~\n",
      "5 tensor([0.])\n",
      "~~~~~~~~loss=256.38531494140625,  y=tensor([0.]) ~~~~~~~~~~\n",
      "6 tensor([0.])\n",
      "~~~~~~~~loss=85.82609558105469,  y=tensor([0.]) ~~~~~~~~~~\n",
      "7 tensor([0.])\n",
      "~~~~~~~~loss=3.285417079925537,  y=tensor([0.]) ~~~~~~~~~~\n",
      "8 tensor([0.])\n",
      "~~~~~~~~loss=172.3017120361328,  y=tensor([0.]) ~~~~~~~~~~\n",
      "9 tensor([0.])\n",
      "~~~~~~~~loss=3.295980453491211,  y=tensor([0.]) ~~~~~~~~~~\n",
      "10 tensor([0.])\n",
      "~~~~~~~~loss=256.3948974609375,  y=tensor([0.]) ~~~~~~~~~~\n",
      "11 tensor([0.])\n",
      "~~~~~~~~loss=85.84868621826172,  y=tensor([0.]) ~~~~~~~~~~\n",
      "12 tensor([0.])\n",
      "~~~~~~~~loss=3.2948293685913086,  y=tensor([0.]) ~~~~~~~~~~\n",
      "13 tensor([0.])\n",
      "~~~~~~~~loss=172.29559326171875,  y=tensor([0.]) ~~~~~~~~~~\n",
      "14 tensor([0.])\n",
      "~~~~~~~~loss=3.300734519958496,  y=tensor([0.]) ~~~~~~~~~~\n",
      "15 tensor([0.])\n",
      "~~~~~~~~loss=256.3785705566406,  y=tensor([0.]) ~~~~~~~~~~\n",
      "16 tensor([0.])\n",
      "~~~~~~~~loss=85.8239974975586,  y=tensor([0.]) ~~~~~~~~~~\n",
      "17 tensor([0.])\n",
      "~~~~~~~~loss=3.2988362312316895,  y=tensor([0.]) ~~~~~~~~~~\n",
      "18 tensor([0.])\n",
      "~~~~~~~~loss=172.293701171875,  y=tensor([0.]) ~~~~~~~~~~\n",
      "19 tensor([0.])\n",
      "~~~~~~~~loss=3.3058838844299316,  y=tensor([0.]) ~~~~~~~~~~\n",
      "20 tensor([0.])\n",
      "~~~~~~~~loss=256.3896484375,  y=tensor([0.]) ~~~~~~~~~~\n",
      "21 tensor([0.])\n",
      "~~~~~~~~loss=85.81552124023438,  y=tensor([0.]) ~~~~~~~~~~\n",
      "22 tensor([0.])\n",
      "~~~~~~~~loss=3.3046510219573975,  y=tensor([0.]) ~~~~~~~~~~\n",
      "23 tensor([0.])\n",
      "~~~~~~~~loss=172.2992706298828,  y=tensor([0.]) ~~~~~~~~~~\n",
      "24 tensor([0.])\n",
      "~~~~~~~~loss=3.3049230575561523,  y=tensor([0.]) ~~~~~~~~~~\n",
      "25 tensor([0.])\n",
      "~~~~~~~~loss=256.3981018066406,  y=tensor([0.]) ~~~~~~~~~~\n",
      "26 tensor([0.])\n",
      "~~~~~~~~loss=85.82662963867188,  y=tensor([0.]) ~~~~~~~~~~\n",
      "27 tensor([0.])\n",
      "~~~~~~~~loss=3.291309356689453,  y=tensor([0.]) ~~~~~~~~~~\n",
      "28 tensor([0.])\n",
      "~~~~~~~~loss=172.29583740234375,  y=tensor([0.]) ~~~~~~~~~~\n",
      "29 tensor([0.])\n",
      "~~~~~~~~loss=3.3061532974243164,  y=tensor([0.]) ~~~~~~~~~~\n",
      "30 tensor([1.])\n",
      "~~~~~~~~loss=256.38873291015625,  y=tensor([1.]) ~~~~~~~~~~\n",
      "31 tensor([1.])\n",
      "~~~~~~~~loss=85.81289672851562,  y=tensor([1.]) ~~~~~~~~~~\n",
      "32 tensor([1.])\n",
      "~~~~~~~~loss=3.2971930503845215,  y=tensor([1.]) ~~~~~~~~~~\n",
      "33 tensor([1.])\n",
      "~~~~~~~~loss=194.55262756347656,  y=tensor([1.]) ~~~~~~~~~~\n",
      "34 tensor([1.])\n",
      "~~~~~~~~loss=3.2943012714385986,  y=tensor([1.]) ~~~~~~~~~~\n",
      "35 tensor([1.])\n",
      "~~~~~~~~loss=256.3988952636719,  y=tensor([1.]) ~~~~~~~~~~\n",
      "36 tensor([1.])\n",
      "~~~~~~~~loss=85.82907104492188,  y=tensor([1.]) ~~~~~~~~~~\n",
      "37 tensor([0.])\n",
      "~~~~~~~~loss=3.3043642044067383,  y=tensor([0.]) ~~~~~~~~~~\n",
      "38 tensor([0.])\n",
      "~~~~~~~~loss=172.29403686523438,  y=tensor([0.]) ~~~~~~~~~~\n",
      "39 tensor([0.])\n",
      "~~~~~~~~loss=3.294384479522705,  y=tensor([0.]) ~~~~~~~~~~\n",
      "40 tensor([0.])\n",
      "~~~~~~~~loss=256.3862609863281,  y=tensor([0.]) ~~~~~~~~~~\n",
      "41 tensor([0.])\n",
      "~~~~~~~~loss=85.84130859375,  y=tensor([0.]) ~~~~~~~~~~\n",
      "42 tensor([0.])\n",
      "~~~~~~~~loss=3.295836925506592,  y=tensor([0.]) ~~~~~~~~~~\n",
      "43 tensor([0.])\n",
      "~~~~~~~~loss=172.3075408935547,  y=tensor([0.]) ~~~~~~~~~~\n",
      "44 tensor([0.])\n",
      "~~~~~~~~loss=3.3028059005737305,  y=tensor([0.]) ~~~~~~~~~~\n",
      "45 tensor([0.])\n",
      "~~~~~~~~loss=256.3846130371094,  y=tensor([0.]) ~~~~~~~~~~\n",
      "46 tensor([0.])\n",
      "~~~~~~~~loss=85.81755828857422,  y=tensor([0.]) ~~~~~~~~~~\n",
      "47 tensor([0.])\n",
      "~~~~~~~~loss=3.294111490249634,  y=tensor([0.]) ~~~~~~~~~~\n",
      "48 tensor([0.])\n",
      "~~~~~~~~loss=172.30686950683594,  y=tensor([0.]) ~~~~~~~~~~\n",
      "49 tensor([0.])\n",
      "~~~~~~~~loss=3.308438777923584,  y=tensor([0.]) ~~~~~~~~~~\n",
      "50 tensor([0.])\n",
      "~~~~~~~~loss=256.3919372558594,  y=tensor([0.]) ~~~~~~~~~~\n",
      "51 tensor([0.])\n",
      "~~~~~~~~loss=85.82989501953125,  y=tensor([0.]) ~~~~~~~~~~\n",
      "52 tensor([0.])\n",
      "~~~~~~~~loss=3.2930538654327393,  y=tensor([0.]) ~~~~~~~~~~\n",
      "53 tensor([0.])\n",
      "~~~~~~~~loss=172.2938690185547,  y=tensor([0.]) ~~~~~~~~~~\n",
      "54 tensor([0.])\n",
      "~~~~~~~~loss=3.2986526489257812,  y=tensor([0.]) ~~~~~~~~~~\n",
      "55 tensor([0.])\n",
      "~~~~~~~~loss=256.38104248046875,  y=tensor([0.]) ~~~~~~~~~~\n",
      "56 tensor([0.])\n",
      "~~~~~~~~loss=85.83183288574219,  y=tensor([0.]) ~~~~~~~~~~\n",
      "57 tensor([0.])\n",
      "~~~~~~~~loss=3.311494827270508,  y=tensor([0.]) ~~~~~~~~~~\n",
      "58 tensor([0.])\n",
      "~~~~~~~~loss=172.2961883544922,  y=tensor([0.]) ~~~~~~~~~~\n",
      "59 tensor([0.])\n",
      "~~~~~~~~loss=3.2908143997192383,  y=tensor([0.]) ~~~~~~~~~~\n",
      "60 tensor([0.])\n",
      "~~~~~~~~loss=256.39068603515625,  y=tensor([0.]) ~~~~~~~~~~\n",
      "61 tensor([0.])\n",
      "~~~~~~~~loss=85.82830810546875,  y=tensor([0.]) ~~~~~~~~~~\n",
      "62 tensor([0.])\n",
      "~~~~~~~~loss=3.294952869415283,  y=tensor([0.]) ~~~~~~~~~~\n",
      "63 tensor([0.])\n",
      "~~~~~~~~loss=172.30172729492188,  y=tensor([0.]) ~~~~~~~~~~\n",
      "64 tensor([0.])\n",
      "~~~~~~~~loss=3.277886390686035,  y=tensor([0.]) ~~~~~~~~~~\n",
      "65 tensor([0.])\n",
      "~~~~~~~~loss=256.39959716796875,  y=tensor([0.]) ~~~~~~~~~~\n",
      "66 tensor([0.])\n",
      "~~~~~~~~loss=85.8329849243164,  y=tensor([0.]) ~~~~~~~~~~\n"
     ]
    }
   ],
   "source": [
    "loss_list = []\n",
    "y_list = []\n",
    "for i, (x,y) in enumerate(test_dataloader):\n",
    "    print(i, y)\n",
    "    \n",
    "    z = Variable(init.normal(torch.zeros(opt_test.batch_size,\n",
    "                                     test_dataset.window_length, \n",
    "                                     test_dataset.n_feature),mean=0,std=0.1),requires_grad=True)\n",
    "    #z = x\n",
    "    z_optimizer = torch.optim.Adam([z],lr=1e-2)\n",
    "    \n",
    "    loss = None\n",
    "    for j in range(50): # set your interation range\n",
    "        gen_fake,_ = generator(z)\n",
    "        #gen_fake,_ = generator(z.cuda())\n",
    "        loss = Anomaly_score(Variable(x), gen_fake)\n",
    "        #loss = Anomaly_score(Variable(x).cuda(), gen_fake)\n",
    "        loss.backward()\n",
    "        z_optimizer.step()\n",
    "\n",
    "    loss_list.append(loss) # Store the loss from the final iteration\n",
    "    y_list.append(y) # Store the corresponding anomaly label\n",
    "    print('~~~~~~~~loss={},  y={} ~~~~~~~~~~'.format(loss, y))\n",
    "    #break"
   ]
  },
  {
   "attachments": {},
   "cell_type": "markdown",
   "metadata": {},
   "source": [
    "### Visualise Anomaly Detection"
   ]
  },
  {
   "cell_type": "code",
   "execution_count": 26,
   "metadata": {},
   "outputs": [
    {
     "data": {
      "image/png": "[encoded data removed]",
      "text/plain": [
       "<Figure size 640x480 with 1 Axes>"
      ]
     },
     "metadata": {},
     "output_type": "display_data"
    }
   ],
   "source": [
    "import pandas as pd\n",
    "import matplotlib.pyplot as plt\n",
    "\n",
    "THRESHOLD = 3 # Anomaly score threshold for an instance to be considered as anomaly \n",
    "\n",
    "#TIME_STEPS = dataset.window_length\n",
    "test_score_df = pd.DataFrame(index=range(test_dataset.data_len))\n",
    "test_score_df['loss'] = [loss.item()/test_dataset.window_length for loss in loss_list]\n",
    "test_score_df['y'] = test_dataset.y\n",
    "test_score_df['threshold'] = THRESHOLD\n",
    "test_score_df['anomaly'] = test_score_df.loss > test_score_df.threshold\n",
    "test_score_df['t'] = [x[59].item() for x in test_dataset.x]\n",
    "\n",
    "plt.plot(test_score_df.index, test_score_df.loss, label='loss')\n",
    "plt.plot(test_score_df.index, test_score_df.threshold, label='threshold')\n",
    "plt.plot(test_score_df.index, test_score_df.y, label='y')\n",
    "plt.xticks(rotation=25)\n",
    "plt.legend();"
   ]
  },
  {
   "attachments": {},
   "cell_type": "markdown",
   "metadata": {},
   "source": [
    "### Calculate the window-based anomalies"
   ]
  },
  {
   "cell_type": "code",
   "execution_count": 28,
   "metadata": {},
   "outputs": [],
   "source": [
    "import numpy as np\n",
    "start_end = []\n",
    "state = 0\n",
    "for idx in test_score_df.index:\n",
    "    if state==0 and test_score_df.loc[idx, 'y']==1:\n",
    "        state=1\n",
    "        start = idx\n",
    "    if state==1 and test_score_df.loc[idx, 'y']==0:\n",
    "        state = 0\n",
    "        end = idx\n",
    "        start_end.append((start, end))\n",
    "\n",
    "for s_e in start_end:\n",
    "    if sum(test_score_df[s_e[0]:s_e[1]+1]['anomaly'])>0:\n",
    "        for i in range(s_e[0], s_e[1]+1):\n",
    "            test_score_df.loc[i, 'anomaly'] = 1\n",
    "            \n",
    "actual = np.array(test_score_df['y'])\n",
    "predicted = np.array([int(a) for a in test_score_df['anomaly']])"
   ]
  },
  {
   "attachments": {},
   "cell_type": "markdown",
   "metadata": {},
   "source": [
    "### Calculate measurement scores"
   ]
  },
  {
   "cell_type": "code",
   "execution_count": 29,
   "metadata": {},
   "outputs": [
    {
     "name": "stdout",
     "output_type": "stream",
     "text": [
      "True Positive\t 7\n",
      "True Negative\t 47\n",
      "False Positive\t 13\n",
      "False Negative\t 0\n",
      "Accuracy\t 0.8059701492537313\n",
      "Precision\t 0.35\n",
      "Recall\t 1.0\n",
      "f-measure\t 0.5185185185185185\n",
      "cohen_kappa_score\t 0.4303466317854806\n",
      "auc\t 0.8916666666666666\n",
      "roc_auc\t 0.8916666666666666\n"
     ]
    }
   ],
   "source": [
    "import numpy as np\n",
    "from sklearn.metrics import cohen_kappa_score\n",
    "from sklearn.metrics import roc_curve, auc, roc_auc_score\n",
    "\n",
    "predicted = np.array(predicted)\n",
    "actual = np.array(actual)\n",
    "\n",
    "tp = np.count_nonzero(predicted * actual)\n",
    "tn = np.count_nonzero((predicted - 1) * (actual - 1))\n",
    "fp = np.count_nonzero(predicted * (actual - 1))\n",
    "fn = np.count_nonzero((predicted - 1) * actual)\n",
    "\n",
    "print('True Positive\\t', tp)\n",
    "print('True Negative\\t', tn)\n",
    "print('False Positive\\t', fp)\n",
    "print('False Negative\\t', fn)\n",
    "\n",
    "accuracy = (tp + tn) / (tp + fp + fn + tn)\n",
    "precision = tp / (tp + fp)\n",
    "recall = tp / (tp + fn)\n",
    "fmeasure = (2 * precision * recall) / (precision + recall)\n",
    "cohen_kappa_score = cohen_kappa_score(predicted, actual)\n",
    "false_positive_rate, true_positive_rate, thresholds = roc_curve(actual, predicted)\n",
    "auc_val = auc(false_positive_rate, true_positive_rate)\n",
    "roc_auc_val = roc_auc_score(actual, predicted)\n",
    "\n",
    "print('Accuracy\\t', accuracy)\n",
    "print('Precision\\t', precision)\n",
    "print('Recall\\t', recall)\n",
    "print('f-measure\\t', fmeasure)\n",
    "print('cohen_kappa_score\\t', cohen_kappa_score)\n",
    "print('auc\\t', auc_val)\n",
    "print('roc_auc\\t', roc_auc_val)"
   ]
  }
 ],
 "metadata": {
  "kernelspec": {
   "display_name": "Python 3",
   "language": "python",
   "name": "python3"
  },
  "language_info": {
   "codemirror_mode": {
    "name": "ipython",
    "version": 3
   },
   "file_extension": ".py",
   "mimetype": "text/x-python",
   "name": "python",
   "nbconvert_exporter": "python",
   "pygments_lexer": "ipython3",
   "version": "3.10.9"
  }
 },
 "nbformat": 4,
 "nbformat_minor": 4
}
